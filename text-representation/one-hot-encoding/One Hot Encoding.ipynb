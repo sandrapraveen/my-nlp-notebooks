{
 "cells": [
  {
   "cell_type": "code",
   "execution_count": null,
   "id": "bcccbe54-b11f-4a9d-ba91-f2dc7eaf41aa",
   "metadata": {},
   "outputs": [],
   "source": [
    "# One Hot Encoding"
   ]
  },
  {
   "cell_type": "code",
   "execution_count": 5,
   "id": "ea09e4f8-a12f-442e-854e-ffcfac79d70a",
   "metadata": {},
   "outputs": [],
   "source": [
    "# import libraries \n",
    "from sklearn.preprocessing import OneHotEncoder\n",
    "import numpy as np"
   ]
  },
  {
   "cell_type": "code",
   "execution_count": 6,
   "id": "1708f268-a197-4f85-b83b-2f7d17e87012",
   "metadata": {},
   "outputs": [],
   "source": [
    "#corpus\n",
    "corpus = [['nlp'] , ['is'] , ['fun'] , ['amazing']]\n",
    "# OneHotEncoder expects input as a 2D array\n",
    "\n",
    "#create OneHotEncoder\n",
    "encoder = OneHotEncoder(sparse_output=False)\n",
    "\n",
    "# fit and transform \n",
    "onehot = encoder.fit_transform(corpus)"
   ]
  },
  {
   "cell_type": "code",
   "execution_count": 7,
   "id": "10ed0bd2-c06f-42aa-941d-4e8f85f7c067",
   "metadata": {},
   "outputs": [
    {
     "name": "stdout",
     "output_type": "stream",
     "text": [
      "Vocabulary: [array(['amazing', 'fun', 'is', 'nlp'], dtype=object)]\n",
      "One Hot Encoding: \n",
      " [[0. 0. 0. 1.]\n",
      " [0. 0. 1. 0.]\n",
      " [0. 1. 0. 0.]\n",
      " [1. 0. 0. 0.]]\n"
     ]
    }
   ],
   "source": [
    "print('Vocabulary:' , encoder.categories_)\n",
    "print('One Hot Encoding: \\n' , onehot)"
   ]
  },
  {
   "cell_type": "code",
   "execution_count": null,
   "id": "92bb977e-9d5e-465a-8436-5cabf0eeefc8",
   "metadata": {},
   "outputs": [],
   "source": []
  }
 ],
 "metadata": {
  "kernelspec": {
   "display_name": "Python 3 (ipykernel)",
   "language": "python",
   "name": "python3"
  },
  "language_info": {
   "codemirror_mode": {
    "name": "ipython",
    "version": 3
   },
   "file_extension": ".py",
   "mimetype": "text/x-python",
   "name": "python",
   "nbconvert_exporter": "python",
   "pygments_lexer": "ipython3",
   "version": "3.13.5"
  }
 },
 "nbformat": 4,
 "nbformat_minor": 5
}
